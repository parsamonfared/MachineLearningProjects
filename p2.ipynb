{
  "nbformat": 4,
  "nbformat_minor": 0,
  "metadata": {
    "colab": {
      "name": "p2.ipynb",
      "provenance": [],
      "collapsed_sections": [],
      "toc_visible": true
    },
    "kernelspec": {
      "name": "python3",
      "display_name": "Python 3"
    }
  },
  "cells": [
    {
      "cell_type": "markdown",
      "metadata": {
        "id": "T1pupPTrBl1w",
        "colab_type": "text"
      },
      "source": [
        "# CSC321H5 Project 2.\n",
        "\n",
        "**Deadline**: Thursday, Feb. 13, by 9pm\n",
        "\n",
        "**Submission**: Submit a PDF export of the completed notebook. \n",
        "\n",
        "**Late Submission**: Please see the syllabus for the late submission criteria.\n",
        "\n",
        "Based on an assignment by George Dahl, Jing Yao Li, and Roger Grosse\n",
        "\n",
        "In this assignment, we will make a neural network that can predict the next word\n",
        "in a sentence given the previous three. \n",
        "We'll explore a couple of different models to perform this prediction task. We will also do this\n",
        "problem twice: once in PyTorch, and once using numpy. When using numpy, you'll implement\n",
        "the backpropagation computation.\n",
        "\n",
        "In doing this prediction task, our neural networks will learn about *words* and about\n",
        "how to represent words. We'll explore the *vector representations* of words that our\n",
        "model produces, and analyze these representations.\n",
        "\n",
        "You may modify the starter code as you see fit, including changing the signatures of\n",
        "functions and adding/removing helper functions. However, please make sure that your\n",
        "TA can understand what you are doing and why."
      ]
    },
    {
      "cell_type": "code",
      "metadata": {
        "id": "pmoTadSJBl17",
        "colab_type": "code",
        "colab": {}
      },
      "source": [
        "import pandas\n",
        "import numpy as np\n",
        "import matplotlib.pyplot as plt\n",
        "\n",
        "import torch\n",
        "import torch.nn as nn\n",
        "import torch.optim as optim"
      ],
      "execution_count": 0,
      "outputs": []
    },
    {
      "cell_type": "markdown",
      "metadata": {
        "id": "2GzeceoxBl2M",
        "colab_type": "text"
      },
      "source": [
        "## Question 1. Data\n",
        "\n",
        "With any machine learning problem, the first thing that we would want to do\n",
        "is to get an intuitive understanding of what our data looks like. Download the file\n",
        "`raw_sentences.txt` from `https://www.cs.toronto.edu/~lczhang/321/hw/raw_sentences.txt`\n",
        "and upload it to Google Drive.\n",
        "Then, mount Google Drive from your Google Colab notebook:"
      ]
    },
    {
      "cell_type": "code",
      "metadata": {
        "id": "wAwr_GMSBl2Q",
        "colab_type": "code",
        "outputId": "baadeee2-1d1b-4bf0-ceeb-b2d386993358",
        "colab": {
          "base_uri": "https://localhost:8080/",
          "height": 34
        }
      },
      "source": [
        "from google.colab import drive\n",
        "drive.mount('/content/gdrive')"
      ],
      "execution_count": 0,
      "outputs": [
        {
          "output_type": "stream",
          "text": [
            "Drive already mounted at /content/gdrive; to attempt to forcibly remount, call drive.mount(\"/content/gdrive\", force_remount=True).\n"
          ],
          "name": "stdout"
        }
      ]
    },
    {
      "cell_type": "markdown",
      "metadata": {
        "id": "3Vh5JXmHBl2g",
        "colab_type": "text"
      },
      "source": [
        "Find the path to `raw_sentences.txt`:"
      ]
    },
    {
      "cell_type": "code",
      "metadata": {
        "id": "tbQnVK5RBl2k",
        "colab_type": "code",
        "colab": {}
      },
      "source": [
        "file_path = '/content/gdrive/My Drive/CSC321/raw_sentences.txt' # TODO - UPDATE ME!"
      ],
      "execution_count": 0,
      "outputs": []
    },
    {
      "cell_type": "markdown",
      "metadata": {
        "id": "mdrMF2DgBl27",
        "colab_type": "text"
      },
      "source": [
        "You might find it helpful to know that you can run shell commands (like `ls`) by\n",
        "using `!` in Google Colab, like this:"
      ]
    },
    {
      "cell_type": "code",
      "metadata": {
        "id": "hqVDEmhoBl3B",
        "colab_type": "code",
        "outputId": "14acf165-7106-4b23-9ffb-8fd4a9e01fe6",
        "colab": {
          "base_uri": "https://localhost:8080/",
          "height": 34
        }
      },
      "source": [
        "#!ls /content/gdrive/My\\ Drive/\n",
        "!ls /content/gdrive/My\\ Drive/CSC321/"
      ],
      "execution_count": 0,
      "outputs": [
        {
          "output_type": "stream",
          "text": [
            "raw_sentences.txt\n"
          ],
          "name": "stdout"
        }
      ]
    },
    {
      "cell_type": "markdown",
      "metadata": {
        "id": "kpGdmsQXBl3l",
        "colab_type": "text"
      },
      "source": [
        "The following code reads the sentences in our file, split each sentence into\n",
        "its individual words, and stores the sentences (list of words) in the\n",
        "variable `sentences`."
      ]
    },
    {
      "cell_type": "code",
      "metadata": {
        "id": "RVXW6ootBl3p",
        "colab_type": "code",
        "colab": {}
      },
      "source": [
        "sentences = []\n",
        "for line in open(file_path):\n",
        "    words = line.split()\n",
        "    sentence = [word.lower() for word in words]\n",
        "    sentences.append(sentence)"
      ],
      "execution_count": 0,
      "outputs": []
    },
    {
      "cell_type": "markdown",
      "metadata": {
        "id": "AFkVZr62Bl36",
        "colab_type": "text"
      },
      "source": [
        "There are 97,162 sentences in total, and \n",
        "these sentences are composed of 250 distinct words."
      ]
    },
    {
      "cell_type": "code",
      "metadata": {
        "id": "7Df0nQIhBl4C",
        "colab_type": "code",
        "outputId": "1c06b909-991a-48b2-9197-b9734f86da7a",
        "colab": {
          "base_uri": "https://localhost:8080/",
          "height": 50
        }
      },
      "source": [
        "vocab = set([w for s in sentences for w in s])\n",
        "print(len(sentences)) # 97162\n",
        "print(len(vocab)) # 250"
      ],
      "execution_count": 0,
      "outputs": [
        {
          "output_type": "stream",
          "text": [
            "97162\n",
            "250\n"
          ],
          "name": "stdout"
        }
      ]
    },
    {
      "cell_type": "markdown",
      "metadata": {
        "id": "SRpemxQVBl4P",
        "colab_type": "text"
      },
      "source": [
        "We'll separate our data into training, validation, and test.\n",
        "We'll use `10,000 sentences for test, 10,000 for validation, and\n",
        "the rest for training."
      ]
    },
    {
      "cell_type": "code",
      "metadata": {
        "id": "gOln8yRDBl4T",
        "colab_type": "code",
        "colab": {}
      },
      "source": [
        "test, valid, train = sentences[:10000], sentences[10000:20000], sentences[20000:]"
      ],
      "execution_count": 0,
      "outputs": []
    },
    {
      "cell_type": "markdown",
      "metadata": {
        "id": "-dmT5Sm-Bl4k",
        "colab_type": "text"
      },
      "source": [
        "### Part (a) -- 2 pts\n",
        "\n",
        "Display 10 sentences in the training set.\n",
        "Explain how punctuations are treated in our word representation, and how words\n",
        "with apostrophes are represented."
      ]
    },
    {
      "cell_type": "code",
      "metadata": {
        "id": "m3K6mycbBl4r",
        "colab_type": "code",
        "outputId": "48e1fc7e-6517-4e4d-9a5e-d9c784db9625",
        "colab": {
          "base_uri": "https://localhost:8080/",
          "height": 54
        }
      },
      "source": [
        "print(train[:10])\n",
        "#the punctutations are treated as a seperate words.\n",
        "#the words with apostrophoes are divided into two words, for example \"one's\" has\n",
        "#been seperated into \"one\" and \"'s\"."
      ],
      "execution_count": 0,
      "outputs": [
        {
          "output_type": "stream",
          "text": [
            "[['last', 'night', ',', 'he', 'said', ',', 'did', 'it', 'for', 'me', '.'], ['on', 'what', 'can', 'i', 'do', '?'], ['now', 'where', 'does', 'it', 'go', '?'], ['what', 'did', 'the', 'court', 'do', '?'], ['but', 'at', 'the', 'same', 'time', ',', 'we', 'have', 'a', 'long', 'way', 'to', 'go', '.'], ['that', 'was', 'the', 'only', 'way', '.'], ['this', 'team', 'will', 'be', 'back', '.'], ['so', 'that', 'is', 'what', 'i', 'do', '.'], ['we', 'have', 'a', 'right', 'to', 'know', '.'], ['now', 'they', 'are', 'three', '.']]\n"
          ],
          "name": "stdout"
        }
      ]
    },
    {
      "cell_type": "markdown",
      "metadata": {
        "id": "2qXmLj5YBl48",
        "colab_type": "text"
      },
      "source": [
        "### Part (b) -- 2 pts\n",
        "\n",
        "What are the 10 most common words in the vocabulary? How often does each of these\n",
        "words appear in the training sentences? Express the second quantity a percentage\n",
        "(i.e. number of occurences of the  word / total number of words in the training set).\n",
        "\n",
        "These are good quantities to compute, because one of the first things a machine learning\n",
        "model will learn is to predict the **most common** class. Getting a sense of the\n",
        "distribution of our data will help you understand our model's behaviour.\n",
        "\n",
        "You can use Python's `collections.Counter` class if you would like to."
      ]
    },
    {
      "cell_type": "code",
      "metadata": {
        "id": "kc1E0B18Bl5C",
        "colab_type": "code",
        "outputId": "66d15d87-d68f-40f3-efed-1dfbb5ffc8a1",
        "colab": {
          "base_uri": "https://localhost:8080/",
          "height": 185
        }
      },
      "source": [
        "#c = Counter(vocab)\n",
        "#c.most_common(10)\n",
        "#todo add percentage \n",
        "import collections\n",
        "flat_list = []\n",
        "for sublist in train:\n",
        "    for item in sublist:\n",
        "        flat_list.append(item)\n",
        "y = collections.Counter(flat_list).most_common(10)\n",
        "counter = 1\n",
        "for tup in y:\n",
        "  percent = str(int(tup[1]/len(train)*100))\n",
        "  print(\"word\"+str(counter) + \" '\" + tup[0]+ \"' has percent \" + percent + '%')\n",
        "  counter +=1\n"
      ],
      "execution_count": 0,
      "outputs": [
        {
          "output_type": "stream",
          "text": [
            "word1 '.' has percent 83%\n",
            "word2 'it' has percent 29%\n",
            "word3 ',' has percent 25%\n",
            "word4 'i' has percent 22%\n",
            "word5 'do' has percent 20%\n",
            "word6 'to' has percent 20%\n",
            "word7 'nt' has percent 16%\n",
            "word8 '?' has percent 16%\n",
            "word9 'the' has percent 16%\n",
            "word10 ''s' has percent 16%\n"
          ],
          "name": "stdout"
        }
      ]
    },
    {
      "cell_type": "markdown",
      "metadata": {
        "id": "50jbNqbqBl5S",
        "colab_type": "text"
      },
      "source": [
        "### Part (c) -- 4 pts\n",
        "\n",
        "Complete the helper functions `convert_words_to_indices` and\n",
        "`generate_4grams`, so that the function `process_data` will take a \n",
        "list of sentences (i.e. list of list of words), and generate an \n",
        "$$N \\times 4$$ numpy matrix containing indices of 4 words that appear\n",
        "next to each other. You can use the constances `vocab`, `vocab_itos`,\n",
        "and `vocab_stoi` in your code."
      ]
    },
    {
      "cell_type": "code",
      "metadata": {
        "id": "C5XYGpo7Bl5W",
        "colab_type": "code",
        "colab": {}
      },
      "source": [
        "# A list of all the words in the data set. We will assign a unique \n",
        "# identifier for each of these words.\n",
        "vocab = sorted(list(set([w for s in train for w in s])))\n",
        "# A mapping of index => word (string)\n",
        "vocab_itos = dict(enumerate(vocab))\n",
        "# A mapping of word => its index\n",
        "vocab_stoi = {word:index for index, word in vocab_itos.items()}\n",
        "\n",
        "def convert_words_to_indices(sents):\n",
        "    \"\"\"\n",
        "    This function takes a list of sentences (list of list of words)\n",
        "    and returns a new list with the same structure, but where each word\n",
        "    is replaced by its index in `vocab_stoi`.\n",
        "\n",
        "    Example:\n",
        "    >>> convert_words_to_indices([['one', 'in', 'five', 'are', 'over', 'here'], ['other', 'one', 'since', 'yesterday'], ['you']])\n",
        "    [[148, 98, 70, 23, 154, 89], [151, 148, 181, 246], [248]]\n",
        "    \"\"\"\n",
        "    \n",
        "    new_sents = []\n",
        "    for sent in sents:\n",
        "      new_sent = []\n",
        "      for word in sent:\n",
        "        new_sent.append(vocab_stoi[word])\n",
        "      new_sents.append(new_sent)\n",
        "    return new_sents\n",
        "\n",
        "def generate_4grams(seqs):\n",
        "    \"\"\"\n",
        "    This function takes a list of sentences (list of lists) and returns\n",
        "    a new list containing the 4-grams (four consequentively occuring words)\n",
        "    that appear in the sentences. Note that a unique 4-gram can appear multiple\n",
        "    times, one per each time that the 4-gram appears in the data parameter `seqs`.\n",
        "\n",
        "    Example:\n",
        "\n",
        "    >>> generate_4grams([[148, 98, 70, 23, 154, 89], [151, 148, 181, 246], [248]])\n",
        "    [[148, 98, 70, 23], [98, 70, 23, 154], [70, 23, 154, 89], [151, 148, 181, 246]]\n",
        "    >>> generate_4grams([[1, 1, 1, 1, 1]])\n",
        "    [[1, 1, 1, 1], [1, 1, 1, 1]]\n",
        "    \"\"\"\n",
        "    four_grams = [] \n",
        "    for seq in seqs:\n",
        "      length = len(seq)\n",
        "      for i in range(length-3):\n",
        "        s = seq[i: i+4]\n",
        "        four_grams.append(s)\n",
        "    return four_grams\n",
        "  \n",
        "def process_data(sents):\n",
        "    \"\"\"\n",
        "    This function takes a list of sentences (list of lists), and generates an\n",
        "    numpy matrix with shape [N, 4] containing indices of words in 4-grams.\n",
        "    \"\"\"\n",
        "    indices = convert_words_to_indices(sents)\n",
        "    fourgrams = generate_4grams(indices)\n",
        "    return np.array(fourgrams)\n",
        "\n",
        "train4grams = process_data(train)\n",
        "valid4grams = process_data(valid)\n",
        "test4grams = process_data(test)\n"
      ],
      "execution_count": 0,
      "outputs": []
    },
    {
      "cell_type": "markdown",
      "metadata": {
        "id": "LtDdsHerBl5n",
        "colab_type": "text"
      },
      "source": [
        "## Question 2. A Multi-Layer Perceptron\n",
        "\n",
        "In this section, we will build a two-layer multi-layer perceptron.\n",
        "We will first do this in numpy, and then once more in PyTorch.\n",
        "Our model will look like this:\n",
        "\n",
        "<img src=\"https://www.cs.toronto.edu/~lczhang/321/hw/p2_model1.png\" />\n",
        "\n",
        "Start by reviewing these helper functions, which are given to you:"
      ]
    },
    {
      "cell_type": "code",
      "metadata": {
        "id": "GjGCD3YJBl5q",
        "colab_type": "code",
        "colab": {}
      },
      "source": [
        "def make_onehot(indicies, total=250):\n",
        "    \"\"\"\n",
        "    Convert indicies into one-hot vectors by\n",
        "        1. Creating an identity matrix of shape [total, total]\n",
        "        2. Indexing the appropriate columns of that identity matrix\n",
        "    \"\"\"\n",
        "    I = np.eye(total)\n",
        "    return I[indicies]\n",
        "\n",
        "def softmax(x):\n",
        "    \"\"\"\n",
        "    Compute the softmax of vector x, or row-wise for a matrix x.\n",
        "    We subtract x.max(axis=0) from each row for numerical stability.\n",
        "    \"\"\"\n",
        "    x = x.T\n",
        "    exps = np.exp(x - x.max(axis=0))\n",
        "    probs = exps / np.sum(exps, axis=0)\n",
        "    return probs.T\n",
        "\n",
        "def get_batch(data, range_min, range_max, onehot=True):\n",
        "    \"\"\"\n",
        "    Convert one batch of data in the form of 4-grams into input and output\n",
        "    data and return the training data (xs, ts) where:\n",
        "     - `xs` is an numpy array of one-hot vectors of shape [batch_size, 3, 250]\n",
        "     - `ts` is either\n",
        "            - a numpy array of shape [batch_size, 250] if onehot is True,\n",
        "            - a numpy array of shape [batch_size] containing indicies otherwise\n",
        "\n",
        "    Preconditions:\n",
        "     - `data` is a numpy array of shape [N, 4] produced by a call\n",
        "        to `process_data`\n",
        "     - range_max > range_min\n",
        "    \"\"\"\n",
        "    xs = data[range_min:range_max, :3]\n",
        "    xs = make_onehot(xs)\n",
        "    ts = data[range_min:range_max, 3]\n",
        "    if onehot:\n",
        "        ts = make_onehot(ts).reshape(-1, 250)\n",
        "    return xs, ts\n",
        "\n",
        "def estimate_accuracy(model, data, batch_size=5000, max_N=100000):\n",
        "    \"\"\"\n",
        "    Estimate the accuracy of the model on the data. To reduce\n",
        "    computation time, use at most `max_N` elements of `data` to\n",
        "    produce the estimate.\n",
        "    \"\"\"\n",
        "    correct = 0\n",
        "    N = 0\n",
        "    for i in range(0, data.shape[0], batch_size):\n",
        "        xs, ts = get_batch(data, i, i + batch_size, onehot=False)\n",
        "        y = model(xs)\n",
        "        pred = np.argmax(y, axis=1)\n",
        "        correct += np.sum(ts == pred)\n",
        "        N += ts.shape[0]\n",
        "\n",
        "        if N > max_N:\n",
        "            break\n",
        "    return correct / N"
      ],
      "execution_count": 0,
      "outputs": []
    },
    {
      "cell_type": "markdown",
      "metadata": {
        "id": "z5mhS0yVBl55",
        "colab_type": "text"
      },
      "source": [
        "### Part (a) -- 2 point\n",
        "\n",
        "Your first task is to implement MLP model in Numpy.\n",
        "This model is very similar to the one we built in Tutorial 5. However, we will\n",
        "write our code differently from Tutorial 5, so that the class methods and APIs\n",
        "are similar to that of PyTorch. This is to give you some intuition about what\n",
        "PyTorch is doing under the hood.\n",
        "\n",
        "We already wrote code for the backward pass for this model in Tutorial 5, so the\n",
        "code is given to you. To make sure you understand how the model works, \n",
        "**write the code to compute the forward pass**."
      ]
    },
    {
      "cell_type": "code",
      "metadata": {
        "id": "nrthpey-Bl5_",
        "colab_type": "code",
        "colab": {}
      },
      "source": [
        "class NumpyMLPModel(object):\n",
        "    def __init__(self, num_features=250*3, num_hidden=400, num_classes=250):\n",
        "        \"\"\"\n",
        "        Initialize the weights and biases of this two-layer MLP.\n",
        "        \"\"\"\n",
        "        self.num_features = num_features\n",
        "        self.num_hidden = num_hidden\n",
        "        self.num_classes = num_classes\n",
        "        self.weights1 = np.zeros([num_hidden, num_features])\n",
        "        self.bias1 = np.zeros([num_hidden])\n",
        "        self.weights2 = np.zeros([num_classes, num_hidden])\n",
        "        self.bias2 = np.zeros([num_classes])\n",
        "        self.cleanup()\n",
        "\n",
        "    def initializeParams(self):\n",
        "        \"\"\"\n",
        "        Initialize the weights and biases of this two-layer MLP to be random.\n",
        "        This random initialization is necessary to break the symmetry in the\n",
        "        gradient descent update for our hidden weights and biases. If all our\n",
        "        weights were initialized to the same value, then their gradients will\n",
        "        all be the same!\n",
        "        \"\"\"\n",
        "        self.weights1 = np.random.normal(0, 2/self.num_features, self.weights1.shape)\n",
        "        self.bias1 = np.random.normal(0, 2/self.num_features, self.bias1.shape)\n",
        "        self.weights2 = np.random.normal(0, 2/self.num_hidden, self.weights2.shape)\n",
        "        self.bias2 = np.random.normal(0, 2/self.num_hidden, self.bias2.shape)\n",
        "\n",
        "    def forward(self, inputs):\n",
        "        \"\"\"\n",
        "        Compute the forward pass prediction for inputs.\n",
        "        Note that `inputs` will be a rank-3 numpy array with shape [N, 3, 250],\n",
        "        so we will need to flatten the tensor to [N, 750] first.\n",
        "\n",
        "        For the ReLU activation, you may find the function `np.maximum` helpful\n",
        "        \"\"\"\n",
        "        X = inputs.reshape([-1, 750])\n",
        "        \n",
        "\n",
        "        self.N = X.shape[0]\n",
        "        self.X = X\n",
        "        self.z1 =  np.matmul(X, self.weights1.T) + self.bias1.reshape((1, 400))\n",
        "        self.h = np.maximum(0, self.z1)\n",
        "        self.z2 = np.matmul(self.h, self.weights2.T) + self.bias2.reshape((1, 250))\n",
        "        self.y = softmax(self.z2)\n",
        "        return self.y\n",
        "\n",
        "    def __call__(self, inputs):\n",
        "        \"\"\"\n",
        "        To be compatible with PyTorch API. With this code, the following two\n",
        "        calls are identical:\n",
        "\n",
        "        >>> m = TwoLayerMLP()\n",
        "        >>> m.forward(inputs)\n",
        "\n",
        "        and \n",
        "\n",
        "        >>> m = TwoLayerMLP()\n",
        "        >>> m(inputs)\n",
        "        \"\"\"\n",
        "        return self.forward(inputs)\n",
        "\n",
        "    def backward(self, ts):\n",
        "        \"\"\"\n",
        "        Compute the backward pass, given the ground-truth, one-hot targets.\n",
        "        Note that `ts` needs to be a rank 2 numpy array with shape [N, 250].\n",
        "        \"\"\"\n",
        "        self.z2_bar = (self.y - ts) / self.N\n",
        "        self.w2_bar = np.dot(self.z2_bar.T, self.h)\n",
        "        self.b2_bar = np.dot(self.z2_bar.T, np.ones(self.N))\n",
        "        self.h_bar = np.matmul(self.z2_bar, self.weights2)\n",
        "        self.z1_bar = self.h_bar * (self.z1 > 0)\n",
        "        self.w1_bar = np.dot(self.z1_bar.T, self.X)\n",
        "        self.b1_bar = np.dot(self.z1_bar.T, np.ones(self.N))\n",
        "\n",
        "    def update(self, alpha):\n",
        "        \"\"\"\n",
        "        Compute the gradient descent update for the parameters.\n",
        "        \"\"\"\n",
        "        self.weights1 = self.weights1 - alpha * self.w1_bar\n",
        "        self.bias1    = self.bias1    - alpha * self.b1_bar\n",
        "        self.weights2 = self.weights2 - alpha * self.w2_bar\n",
        "        self.bias2    = self.bias2    - alpha * self.b2_bar\n",
        "\n",
        "    def cleanup(self):\n",
        "        \"\"\"\n",
        "        Erase the values of the variables that we use in our computation.\n",
        "        \"\"\"\n",
        "        self.N = None\n",
        "        self.X = None\n",
        "        self.z1 = None\n",
        "        self.h = None\n",
        "        self.z2 = None\n",
        "        self.y = None\n",
        "        self.z2_bar = None\n",
        "        self.w2_bar = None\n",
        "        self.b2_bar = None\n",
        "        self.h_bar = None\n",
        "        self.z1_bar = None\n",
        "        self.w1_bar = None\n",
        "        self.b1_bar = None"
      ],
      "execution_count": 0,
      "outputs": []
    },
    {
      "cell_type": "markdown",
      "metadata": {
        "id": "4KyfuOsZBl6U",
        "colab_type": "text"
      },
      "source": [
        "### Part (b) -- 2 points\n",
        "\n",
        "Complete the `run_gradient_descent` function. Train your numpy MLP model \n",
        "to obtain a training accuracy of at least 25%. You do not need to train\n",
        "this model to convergence."
      ]
    },
    {
      "cell_type": "code",
      "metadata": {
        "id": "q40XI-u6Bl6X",
        "colab_type": "code",
        "outputId": "8f754eab-dd1e-47dd-a898-ded15f7a5c0c",
        "colab": {
          "base_uri": "https://localhost:8080/",
          "height": 353
        }
      },
      "source": [
        "def run_gradient_descent(model,\n",
        "                         train_data=train4grams,\n",
        "                         validation_data=valid4grams,\n",
        "                         batch_size=100,\n",
        "                         learning_rate=0.1,\n",
        "                         max_iters=2000):\n",
        "    \"\"\"\n",
        "    Use gradient descent to train the numpy model on the dataset train4grams.\n",
        "    \"\"\"\n",
        "    \n",
        "    n = 0\n",
        "    while n < max_iters:\n",
        "        # shuffle the training data, and break early if we don't have\n",
        "        # enough data to remaining in the batch\n",
        "        np.random.shuffle(train_data)\n",
        "        for i in range(0, train_data.shape[0], batch_size):\n",
        "            if (i + batch_size) > train_data.shape[0]:\n",
        "                break\n",
        "\n",
        "            # get the input and targets of a minibatch\n",
        "            xs, ts = get_batch(train_data, i, i + batch_size, onehot=True)\n",
        "\n",
        "            # forward pass: compute prediction\n",
        "\n",
        "            y = model.forward(xs)\n",
        "\n",
        "            # backward pass: compute error \n",
        "            \n",
        "            model.backward(ts)\n",
        "            model.update(learning_rate)\n",
        "\n",
        "            # increment the iteration count\n",
        "            n += 1\n",
        "\n",
        "            # compute and plot the *validation* loss and accuracy\n",
        "            if (n % 100 == 0):\n",
        "                train_cost = -np.sum(ts * np.log(y)) / batch_size\n",
        "                train_acc = estimate_accuracy(model, train_data)\n",
        "                val_acc = estimate_accuracy(model, validation_data)\n",
        "                model.cleanup()\n",
        "                print(\"Iter %d. [Val Acc %.0f%%] [Train Acc %.0f%%, Loss %f]\" % (\n",
        "                      n, val_acc * 100, train_acc * 100, train_cost))\n",
        "\n",
        "            if n >= max_iters:\n",
        "                return\n",
        "\n",
        "\n",
        "numpy_mlp = NumpyMLPModel()\n",
        "numpy_mlp.initializeParams()\n",
        "run_gradient_descent(numpy_mlp, learning_rate= 0.8)"
      ],
      "execution_count": 0,
      "outputs": [
        {
          "output_type": "stream",
          "text": [
            "Iter 100. [Val Acc 17%] [Train Acc 17%, Loss 4.694522]\n",
            "Iter 200. [Val Acc 19%] [Train Acc 19%, Loss 4.245182]\n",
            "Iter 300. [Val Acc 21%] [Train Acc 21%, Loss 4.060419]\n",
            "Iter 400. [Val Acc 23%] [Train Acc 23%, Loss 3.776814]\n",
            "Iter 500. [Val Acc 25%] [Train Acc 25%, Loss 4.006105]\n",
            "Iter 600. [Val Acc 25%] [Train Acc 25%, Loss 3.805671]\n",
            "Iter 700. [Val Acc 26%] [Train Acc 26%, Loss 3.598937]\n",
            "Iter 800. [Val Acc 26%] [Train Acc 27%, Loss 3.632888]\n",
            "Iter 900. [Val Acc 26%] [Train Acc 27%, Loss 3.699289]\n",
            "Iter 1000. [Val Acc 28%] [Train Acc 28%, Loss 3.449414]\n",
            "Iter 1100. [Val Acc 28%] [Train Acc 28%, Loss 3.430312]\n",
            "Iter 1200. [Val Acc 28%] [Train Acc 28%, Loss 3.466790]\n",
            "Iter 1300. [Val Acc 28%] [Train Acc 29%, Loss 3.428256]\n",
            "Iter 1400. [Val Acc 28%] [Train Acc 28%, Loss 3.206049]\n",
            "Iter 1500. [Val Acc 29%] [Train Acc 29%, Loss 3.207770]\n",
            "Iter 1600. [Val Acc 29%] [Train Acc 29%, Loss 3.105385]\n",
            "Iter 1700. [Val Acc 28%] [Train Acc 29%, Loss 3.428476]\n",
            "Iter 1800. [Val Acc 29%] [Train Acc 30%, Loss 3.295754]\n",
            "Iter 1900. [Val Acc 29%] [Train Acc 30%, Loss 3.019360]\n",
            "Iter 2000. [Val Acc 30%] [Train Acc 30%, Loss 3.046296]\n"
          ],
          "name": "stdout"
        }
      ]
    },
    {
      "cell_type": "markdown",
      "metadata": {
        "id": "6gnXgsDwBl6n",
        "colab_type": "text"
      },
      "source": [
        "### Part (c) -- 2 pts\n",
        "\n",
        "We will do build the same model in PyTorch. Since PyTorch uses automatic\n",
        "differentiation, we only need to write the *forward pass* of our\n",
        "model. Complete the `forward` function below:"
      ]
    },
    {
      "cell_type": "code",
      "metadata": {
        "id": "Er9zz0enBl6r",
        "colab_type": "code",
        "colab": {}
      },
      "source": [
        "class PyTorchMLP(nn.Module):\n",
        "    def __init__(self, num_hidden=400):\n",
        "        super(PyTorchMLP, self).__init__()\n",
        "        self.layer1 = nn.Linear(750, num_hidden)\n",
        "        self.layer2 = nn.Linear(num_hidden, 250)\n",
        "        self.num_hidden = num_hidden\n",
        "    def forward(self, inp):\n",
        "        inp = inp.reshape([-1, 750])\n",
        "        h = torch.relu(self.layer1(inp))\n",
        "        return self.layer2(h)\n"
      ],
      "execution_count": 0,
      "outputs": []
    },
    {
      "cell_type": "markdown",
      "metadata": {
        "id": "FIsllF5iBl64",
        "colab_type": "text"
      },
      "source": [
        "### Part (d) -- 4 pts\n",
        "\n",
        "We'll write similar code to train the PyTorch model. With a few differences:\n",
        "\n",
        "1. We will use a slightly fancier optimizer called **Adam**. For this optimizer,\n",
        "   a smaller learning rate usually works better, so the default learning\n",
        "   rate is set to 0.001.\n",
        "2. Since we get weight decay for free, you are welcome to use weight decay.\n",
        "\n",
        "Complete the function `run_pytorch_gradient_descent`, and use it to train\n",
        "your PyTorch MLP model to obtain a training accuracy of at least 38%.\n",
        "Plot the learning curve using the `plot_learning_curve` function provided\n",
        "to you, and include your plot in your PDF submission."
      ]
    },
    {
      "cell_type": "code",
      "metadata": {
        "id": "ugEyVBrrBl67",
        "colab_type": "code",
        "colab": {}
      },
      "source": [
        "def estimate_accuracy_torch(model, data, batch_size=5000, max_N=100000):\n",
        "    \"\"\"\n",
        "    Estimate the accuracy of the model on the data. To reduce\n",
        "    computation time, use at most `max_N` elements of `data` to\n",
        "    produce the estimate.\n",
        "    \"\"\"\n",
        "    correct = 0\n",
        "    N = 0\n",
        "    for i in range(0, data.shape[0], batch_size):\n",
        "        # get a baApr 27, 2tch of data\n",
        "        xs, ts = get_batch(data, i, i + batch_size, onehot=False)\n",
        "        \n",
        "        # forward pass prediction\n",
        "        y = model(torch.Tensor(xs))\n",
        "        y = y.detach().numpy() # convert the PyTorch tensor => numpy array\n",
        "        pred = np.argmax(y, axis=1)\n",
        "        correct += np.sum(pred == ts)\n",
        "        N += ts.shape[0]\n",
        "\n",
        "        if N > max_N:\n",
        "            break\n",
        "    return correct / N\n",
        "\n",
        "def run_pytorch_gradient_descent(model,\n",
        "                                 train_data=train4grams,\n",
        "                                 validation_data=valid4grams,\n",
        "                                 batch_size=100,\n",
        "                                 learning_rate=0.001,\n",
        "                                 weight_decay=0,\n",
        "                                 max_iters=1000,\n",
        "                                 checkpoint_path=None):\n",
        "    \"\"\"\n",
        "    Train the PyTorch model on the dataset `train_data`, reporting\n",
        "    the validation accuracy on `validation_data`, for `max_iters`\n",
        "    iteration.\n",
        "\n",
        "    If you want to **checkpoint** your model weights (i.e. save the\n",
        "    model weights to Google Drive), then the parameter\n",
        "    `checkpoint_path` should be a string path with `{}` to be replaced\n",
        "    by the iteration count:\n",
        "\n",
        "    For example, calling \n",
        "\n",
        "    >>> run_pytorch_gradient_descent(model, ...,\n",
        "            checkpoint_path = '/content/gdrive/My Drive/CSC321/mlp/ckpt-{}.pk')\n",
        "\n",
        "    will save the model parameters in Google Drive every 500 iterations.\n",
        "    You will have to make sure that the path exists (i.e. you'll need to create\n",
        "    the folder CSC321, mlp, etc...). Your Google Drive will be populated with files:\n",
        "\n",
        "    - /content/gdrive/My Drive/CSC321/mlp/ckpt-500.pk\n",
        "    - /content/gdrive/My Drive/CSC321/mlp/ckpt-1000.pk\n",
        "    - ...\n",
        "\n",
        "    To load the weights at a later time, you can run:\n",
        "\n",
        "    >>> model.load_state_dicApr 27, 2t(torch.load('/content/gdrive/My Drive/CSC321/mlp/ckpt-500.pk'))\n",
        "\n",
        "    This function returns the training loss, and the training/validation accuracy,\n",
        "    which we can use to plot the learning curve.\n",
        "    \"\"\"\n",
        "    criterion = nn.CrossEntropyLoss()\n",
        "    optimizer = optim.Adam(model.parameters(),\n",
        "                           lr=learning_rate,\n",
        "                           weight_decay=weight_decay)\n",
        " \n",
        "\n",
        "\n",
        "    iters, losses = [], []\n",
        "    iters_sub, train_accs, val_accs  = [], [] ,[]\n",
        "\n",
        "    n = 0 # the number of iterations\n",
        "    while True:\n",
        "        for i in range(0, train_data.shape[0], batch_size):\n",
        "            if (i + batch_size) > train_data.shape[0]:\n",
        "                break\n",
        "\n",
        "            # get the input and targets of a minibatch\n",
        "            xs, ts = get_batch(train_data, i, i + batch_size, onehot=False)\n",
        "\n",
        "            # convert from numpy arrays to PyTorch tensors\n",
        "            xs = torch.Tensor(xs)\n",
        "            ts = torch.Tensor(ts).long()\n",
        "          \n",
        "            zs = model(xs)                 # compute prediction logit\n",
        "            loss = criterion(zs, ts)          # compute the total loss\n",
        "            loss.backward()                     # compute updates for each parameter\n",
        "            optimizer.step()                    # make the updates for each parameter\n",
        "            optimizer.zero_grad()                      # a clean up step for PyTorch\n",
        "\n",
        "            # save the current training information\n",
        "            iters.append(n)\n",
        "            losses.append(float(loss)/batch_size)  # compute *average* loss\n",
        "\n",
        "            if n % 500 == 0:\n",
        "                iters_sub.append(n)\n",
        "                train_cost = float(loss.detach().numpy())\n",
        "                train_acc = estimate_accuracy_torch(model, train_data)\n",
        "                train_accs.append(train_acc)\n",
        "                val_acc = estimate_accuracy_torch(model, validation_data)\n",
        "                val_accs.append(val_acc)\n",
        "                print(\"Iter %d. [Val Acc %.0f%%] [Train Acc %.0f%%, Loss %f]\" % (\n",
        "                      n, val_acc * 100, train_acc * 100, train_cost))\n",
        "\n",
        "                if (checkpoint_path is not None) and n > 0:\n",
        "                    torch.save(model.state_dict(), checkpoint_path.format(n))\n",
        "\n",
        "            # increment the iteration number\n",
        "            n += 1\n",
        "\n",
        "            if n > max_iters:\n",
        "                return iters, losses, iters_sub, train_accs, val_accs\n",
        "\n",
        "\n",
        "def plot_learning_curve(iters, losses, iters_sub, train_accs, val_accs):\n",
        "    \"\"\"\n",
        "    Plot the learning curve.\n",
        "    \"\"\"\n",
        "    plt.title(\"Learning Curve: Loss per Iteration\")\n",
        "    plt.plot(iters, losses, label=\"Train\")\n",
        "    plt.xlabel(\"Iterations\")\n",
        "    plt.ylabel(\"Loss\")\n",
        "    plt.show()\n",
        "\n",
        "    plt.title(\"Learning Curve: Accuracy per Iteration\")\n",
        "    plt.plot(iters_sub, train_accs, label=\"Train\")\n",
        "    plt.plot(iters_sub, val_accs, label=\"Validation\")\n",
        "    plt.xlabel(\"Iterations\")\n",
        "    plt.ylabel(\"Accuracy\")\n",
        "    plt.legend(loc='best')\n",
        "    plt.show()"
      ],
      "execution_count": 0,
      "outputs": []
    },
    {
      "cell_type": "code",
      "metadata": {
        "id": "4N1CUQn1Bl7I",
        "colab_type": "code",
        "outputId": "15bc8939-b182-4963-91c3-8b8b5bceb064",
        "colab": {
          "base_uri": "https://localhost:8080/",
          "height": 623
        }
      },
      "source": [
        "pytorch_mlp = PyTorchMLP()\n",
        "learning_curve_info = run_pytorch_gradient_descent(pytorch_mlp, learning_rate = 0.008, weight_decay= 0)\n",
        "\n",
        "# you might want to save the `learning_curve_info` somewhere, so that you can plot\n",
        "# the learning curve prior to exporting your PDF file\n",
        "\n",
        "plot_learning_curve(*learning_curve_info)"
      ],
      "execution_count": 0,
      "outputs": [
        {
          "output_type": "stream",
          "text": [
            "Iter 0. [Val Acc 15%] [Train Acc 15%, Loss 5.514713]\n",
            "Iter 500. [Val Acc 32%] [Train Acc 34%, Loss 2.972861]\n",
            "Iter 1000. [Val Acc 34%] [Train Acc 38%, Loss 3.118337]\n"
          ],
          "name": "stdout"
        },
        {
          "output_type": "display_data",
          "data": {
            "image/png": "[encoded data removed]",
            "text/plain": [
              "<Figure size 432x288 with 1 Axes>"
            ]
          },
          "metadata": {
            "tags": []
          }
        },
        {
          "output_type": "display_data",
          "data": {
            "image/png": "[encoded data removed]",
            "text/plain": [
              "<Figure size 432x288 with 1 Axes>"
            ]
          },
          "metadata": {
            "tags": []
          }
        }
      ]
    },
    {
      "cell_type": "markdown",
      "metadata": {
        "id": "bJokcabgBl7b",
        "colab_type": "text"
      },
      "source": [
        "### Part (e) -- 3 points\n",
        "\n",
        "Write a function `make_prediction` that takes as parameters\n",
        "a PyTorchMLP model and sentence (a list of words), and produces\n",
        "a prediction for the next word in the sentence.\n",
        "\n",
        "Start by thinking about what you need to do, step by step, taking\n",
        "care of the difference between a numpy array and a PyTorch Tensor."
      ]
    },
    {
      "cell_type": "code",
      "metadata": {
        "id": "cwrj_B4iBl7g",
        "colab_type": "code",
        "outputId": "54024157-32ef-4e37-b091-6a12faf95dce",
        "colab": {
          "base_uri": "https://localhost:8080/",
          "height": 87
        }
      },
      "source": [
        "def make_prediction_torch(model, sentence):\n",
        "    \"\"\"\n",
        "    Use the model to make a prediction for the next word in the\n",
        "    sentence using the last 3 words (sentence[-3:]). You may assume\n",
        "    that len(sentence) >= 3 and that `model` is an instance of\n",
        "    PYTorchMLP.\n",
        "\n",
        "    This function should return the next word, represented as a string.\n",
        "\n",
        "    Example call:\n",
        "    >>> make_prediction_torch(pytorch_mlp, ['you', 'are', 'a'])\n",
        "    \"\"\"\n",
        "    global vocab_stoi, vocab_itos\n",
        "\n",
        "    x = make_onehot(convert_words_to_indices([sentence[-3:]]))\n",
        "    y = model(torch.Tensor(x)).detach().numpy()\n",
        "    return vocab_itos[np.argmax(y)]\n",
        "\n",
        "make_prediction_torch(pytorch_mlp, [\"there\", \"but\", \"she\"])"
      ],
      "execution_count": 0,
      "outputs": [
        {
          "output_type": "stream",
          "text": [
            "/usr/local/lib/python3.6/dist-packages/ipykernel_launcher.py:8: FutureWarning: Using a non-tuple sequence for multidimensional indexing is deprecated; use `arr[tuple(seq)]` instead of `arr[seq]`. In the future this will be interpreted as an array index, `arr[np.array(seq)]`, which will result either in an error or a different result.\n",
            "  \n"
          ],
          "name": "stderr"
        },
        {
          "output_type": "execute_result",
          "data": {
            "text/plain": [
              "'did'"
            ]
          },
          "metadata": {
            "tags": []
          },
          "execution_count": 195
        }
      ]
    },
    {
      "cell_type": "markdown",
      "metadata": {
        "id": "WfAAdfkOBl7x",
        "colab_type": "text"
      },
      "source": [
        "### Part (f) -- 4 points\n",
        "\n",
        "Use your code to predict what the next word should be in each\n",
        "of the following sentences:\n",
        "\n",
        "- \"You are a\"\n",
        "- \"few companies show\"\n",
        "- \"There are no\"\n",
        "- \"yesterday i was\"\n",
        "- \"the game had\"\n",
        "- \"yesterday the federal\"\n",
        "\n",
        "Do your predictions make sense? (If all of your predictions are the same,\n",
        "train your model for more iterations, or change the hyperparameters in your\n",
        "model. You may need to do this even if your training accuracy is >=38%)\n",
        "\n",
        "One concern you might have is that our model may be \"memorizing\" information\n",
        "from the training set.  Check if each of 3-grams (the 3 words appearing next\n",
        "to each other) appear in the training set. If so, what word occurs immediately\n",
        "following those three words?"
      ]
    },
    {
      "cell_type": "code",
      "metadata": {
        "id": "6sVugU56Bl73",
        "colab_type": "code",
        "outputId": "d32d365a-7768-47a9-ea97-acc0ecb3e648",
        "colab": {
          "base_uri": "https://localhost:8080/",
          "height": 272
        }
      },
      "source": [
        "print(make_prediction_torch(pytorch_mlp, [\"you\", \"are\", \"a\"]))\n",
        "print(make_prediction_torch(pytorch_mlp, [\"few\", \"companies\", \"show\"]))\n",
        "print(make_prediction_torch(pytorch_mlp, [\"there\", \"are\", \"no\"]))\n",
        "print(make_prediction_torch(pytorch_mlp, [\"yesterday\", \"i\", \"was\"]))\n",
        "print(make_prediction_torch(pytorch_mlp, [\"the\", \"game\", \"had\"]))\n",
        "print(make_prediction_torch(pytorch_mlp, [\"yesterday\", \"the\", \"federal\"]))\n",
        "\n",
        "def find_in_train(sent):\n",
        "  preds = []\n",
        "  for sents in train:\n",
        "    for j in range(len(sents)):\n",
        "      if j+3 <len(sents):\n",
        "        if sents[j:j+3] == sent:\n",
        "          preds.append(sents[j+3])\n",
        "  return preds\n",
        "\n",
        "print(find_in_train([\"you\", \"are\", \"a\"]))\n",
        "print(find_in_train([\"few\", \"companies\", \"show\"]))\n",
        "print(find_in_train([\"there\", \"are\", \"no\"]))\n",
        "print(find_in_train([\"yesterday\", \"i\", \"was\"]))\n",
        "print(find_in_train([\"the\", \"game\", \"had\"]))\n",
        "print(find_in_train([\"yesterday\", \"the\", \"federal\"]))\n",
        "\n",
        "#our outputs makes sense, because it is generalizing our dataset and not just \n",
        "#memorizing them and it even gives a solid prediction for the input combibation\n",
        "#that it has never seen"
      ],
      "execution_count": 0,
      "outputs": [
        {
          "output_type": "stream",
          "text": [
            "/usr/local/lib/python3.6/dist-packages/ipykernel_launcher.py:8: FutureWarning: Using a non-tuple sequence for multidimensional indexing is deprecated; use `arr[tuple(seq)]` instead of `arr[seq]`. In the future this will be interpreted as an array index, `arr[np.array(seq)]`, which will result either in an error or a different result.\n",
            "  \n"
          ],
          "name": "stderr"
        },
        {
          "output_type": "stream",
          "text": [
            "good\n",
            "up\n",
            "money\n",
            ".\n",
            "to\n",
            "one\n",
            "['company', 'family', 'president', 'man', 'man', 'big', 'good', 'man', 'man', 'good', 'what']\n",
            "[]\n",
            "['children', 'women', 'children', 'people', 'people']\n",
            "[]\n",
            "[]\n",
            "[]\n"
          ],
          "name": "stdout"
        }
      ]
    },
    {
      "cell_type": "markdown",
      "metadata": {
        "id": "yrEmPL7BBl8D",
        "colab_type": "text"
      },
      "source": [
        "### Part (g) -- 1 points\n",
        "\n",
        "Report the test accuracy of your model"
      ]
    },
    {
      "cell_type": "code",
      "metadata": {
        "id": "2GBhzttBBl8H",
        "colab_type": "code",
        "outputId": "d1ea7329-0170-43dd-80a0-8257c7e21f75",
        "colab": {
          "base_uri": "https://localhost:8080/",
          "height": 34
        }
      },
      "source": [
        "# Write your code here\n",
        "estimate_accuracy_torch(pytorch_mlp, test4grams)"
      ],
      "execution_count": 0,
      "outputs": [
        {
          "output_type": "execute_result",
          "data": {
            "text/plain": [
              "0.3395887694395157"
            ]
          },
          "metadata": {
            "tags": []
          },
          "execution_count": 197
        }
      ]
    },
    {
      "cell_type": "markdown",
      "metadata": {
        "id": "U-pHQSoWBl8S",
        "colab_type": "text"
      },
      "source": [
        "## Question 3. Learning Word Embeddings\n",
        "\n",
        "In this section, we will build a slightly different model with a different\n",
        "architecture. In particular, we will first compute a lower-dimensional\n",
        "*representation* of the three words, before using a multi-layer perceptron.\n",
        "\n",
        "Our model will look like this:\n",
        "\n",
        "<img src=\"https://www.cs.toronto.edu/~lczhang/321/hw/p2_model2.png\" />\n",
        "\n",
        "This model has 3 layers instead of 2, but the first layer of the network\n",
        "is **not** fully-connected. Instead, we compute the representations of each\n",
        "of the three words **separately**. In addition, the first layer of the network\n",
        "will not use any biases. The reason for this will be clear in question 4.\n",
        "\n",
        "### Part (a) - 10 pts\n",
        "\n",
        "Complete the methods in `NumpyWordEmbModel`."
      ]
    },
    {
      "cell_type": "code",
      "metadata": {
        "colab_type": "code",
        "id": "TQRGHsZkZ1wX",
        "colab": {}
      },
      "source": [
        "class NumpyWordEmbModel(object):\n",
        "    def __init__(self, vocab_size=250, emb_size=100, num_hidden=100):\n",
        "        self.vocab_size = vocab_size\n",
        "        self.emb_size = emb_size\n",
        "        self.num_hidden = num_hidden\n",
        "        self.emb_weights = np.zeros([emb_size, vocab_size]) # no biases in this layer\n",
        "        self.weights1 = np.zeros([num_hidden, emb_size * 3])\n",
        "        self.bias1 = np.zeros([num_hidden])\n",
        "        self.weights2 = np.zeros([vocab_size, num_hidden])\n",
        "        self.bias2 = np.zeros([vocab_size])\n",
        "        self.num_features = 3 * emb_size\n",
        "        self.cleanup()\n",
        "\n",
        "    def initializeParams(self):\n",
        "        \"\"\"\n",
        "        Randomly initialize the weights and biases of this two-layer MLP.\n",
        "        The randomization is necessary so that each weight is updated to\n",
        "        a different value.\n",
        "        \"\"\"\n",
        "        self.emb_weights = np.random.normal(0, 2/self.num_hidden, self.emb_weights.shape)\n",
        "        self.weights1 = np.random.normal(0, 2/self.num_features, self.weights1.shape)\n",
        "        self.bias1 = np.random.normal(0, 2/self.num_features, self.bias1.shape)\n",
        "        self.weights2 = np.random.normal(0, 2/self.num_hidden, self.weights2.shape)\n",
        "        self.bias2 = np.random.normal(0, 2/self.num_hidden, self.bias2.shape)\n",
        "\n",
        "    def forward(self, inputs):\n",
        "        \"\"\"\n",
        "        Compute the forward pass prediction for inputs.\n",
        "        Note that `inputs` will be a rank-3 numpy array with shape [N, 3, 250].\n",
        "\n",
        "\n",
        "        \"\"\"\n",
        "        N0 = inputs.shape[0]\n",
        "        self.inp0 = inputs[:, 0, :]\n",
        "        self.inp1 = inputs[:, 1, :]\n",
        "        self.inp2 = inputs[:, 2, :]\n",
        "\n",
        "        X0 = np.matmul(inputs[:, 0, :], self.emb_weights.T)\n",
        "        X1 = np.matmul(inputs[:, 1, :], self.emb_weights.T)\n",
        "        X2 = np.matmul(inputs[:, 2, :], self.emb_weights.T)\n",
        "        emp_layer = np.concatenate((X0, X1, X2), axis = 1)\n",
        "\n",
        "        self.N = N0\n",
        "        self.X = emp_layer\n",
        "        self.z1 =  np.matmul(self.X, self.weights1.T) + self.bias1.reshape((1, 100))\n",
        "        self.h = np.maximum(0, self.z1)\n",
        "        self.z2 = np.matmul(self.h, self.weights2.T) + self.bias2.reshape((1, 250))\n",
        "        self.y = softmax(self.z2)\n",
        "        return self.y\n",
        "\n",
        "        \n",
        "\n",
        "    def __call__(self, inputs):\n",
        "        return self.forward(inputs)\n",
        "\n",
        "    def backward(self, ts):\n",
        "        \"\"\"\n",
        "        Compute the backward pass, given the groundhi-truth, one-hot targets.\n",
        "        Note that `ts` needs to be a rank 2 numpy array with shape [N, 250].\n",
        "\n",
        "        Remember the multivariate chain rule: if a weight affects the loss\n",
        "        through different paths, then the error signal from all the paths\n",
        "        must be added together.\n",
        "        \"\"\"\n",
        "        self.z2_bar = (self.y - ts) / self.N\n",
        "        self.w2_bar = np.dot(self.z2_bar.T, self.h)\n",
        "        self.b2_bar = np.dot(self.z2_bar.T, np.ones(self.N))\n",
        "        self.h_bar = np.matmul(self.z2_bar, self.weights2)\n",
        "        self.z1_bar = self.h_bar * (self.z1 > 0)\n",
        "        self.w1_bar = np.dot(self.z1_bar.T, self.X)\n",
        "        self.b1_bar = np.dot(self.z1_bar.T, np.ones(self.N))\n",
        "        self.wrep_bar = np.dot(self.z1_bar, self.weights1)\n",
        "        # self.wrep_bar1 = np.dot(self.z1_bar, self.weights1[:,100:200])\n",
        "        # self.wrep_bar2 = np.dot(self.z1_bar, self.weights1[:,200:])\n",
        "\n",
        "        self.wemb_bar = (np.dot(self.wrep_bar[:, :100].T, self.inp0)\n",
        "               + np.dot(self.wrep_bar[:, 100:200].T, self.inp1)\n",
        "               + np.dot(self.wrep_bar[:, 200:].T, self.inp2))\n",
        "        \n",
        "    def update(self, alpha):\n",
        "        \"\"\"\n",
        "        Compute the gradient descent update for the parameters.\n",
        "        \"\"\"\n",
        "        self.weights1 = self.weights1 - alpha * self.w1_bar\n",
        "        self.bias1    = self.bias1    - alpha * self.b1_bar\n",
        "        self.weights2 = self.weights2 - alpha * self.w2_bar\n",
        "        self.bias2    = self.bias2    - alpha * self.b2_bar\n",
        "        self.emb_weights = self.emb_weights - alpha * self.wemb_bar\n",
        "\n",
        "    def cleanup(self):\n",
        "        \"\"\"\n",
        "        Erase the values of the variables that we use in our computation.\n",
        "        \"\"\"\n",
        "        self.N = None\n",
        "        self.X = None\n",
        "        self.z1 = None\n",
        "        self.h = None\n",
        "        self.z2 = None\n",
        "        self.y = None\n",
        "        self.z2_bar = None\n",
        "        self.w2_bar = None\n",
        "        self.b2_bar = None\n",
        "        self.h_bar = None\n",
        "        self.z1_bar = None\n",
        "        self.w1_bar = None\n",
        "        self.b1_bar = None\n",
        "        self.wemb_bar = None\n",
        "        self.inp0 = None\n",
        "        self.inp1 = None\n",
        "        self.inp2 = None"
      ],
      "execution_count": 0,
      "outputs": []
    },
    {
      "cell_type": "markdown",
      "metadata": {
        "id": "XLgMpdSfBl8l",
        "colab_type": "text"
      },
      "source": [
        "### Part (b) -- 1 pts\n",
        "\n",
        "One strategy that machine learning practitioners use to debug their code\n",
        "is to *first try to overfit their model to a small training set*. If the\n",
        "gradient computation is correct and the data is encoded properly, then your\n",
        "model should easily achieve 100% training accuracy on a small training set.\n",
        "\n",
        "Show that your model is implemented correctly by showing that your model\n",
        "can achieve an 100% training accuracy within a few hundred iterations, when\n",
        "using a small training set (e.g. one batch)."
      ]
    },
    {
      "cell_type": "code",
      "metadata": {
        "id": "pxdSMNYDBl8s",
        "colab_type": "code",
        "outputId": "54d8ce53-2e57-4728-92ca-cf670e38c805",
        "colab": {
          "base_uri": "https://localhost:8080/",
          "height": 353
        }
      },
      "source": [
        "numpy_wordemb = NumpyWordEmbModel()\n",
        "numpy_wordemb.initializeParams()\n",
        "run_gradient_descent(numpy_wordemb, train4grams[:64], batch_size=64, learning_rate = 0.2)"
      ],
      "execution_count": 0,
      "outputs": [
        {
          "output_type": "stream",
          "text": [
            "Iter 100. [Val Acc 17%] [Train Acc 16%, Loss 4.271692]\n",
            "Iter 200. [Val Acc 17%] [Train Acc 16%, Loss 3.487572]\n",
            "Iter 300. [Val Acc 17%] [Train Acc 16%, Loss 3.421739]\n",
            "Iter 400. [Val Acc 17%] [Train Acc 16%, Loss 3.402575]\n",
            "Iter 500. [Val Acc 17%] [Train Acc 16%, Loss 3.364577]\n",
            "Iter 600. [Val Acc 11%] [Train Acc 22%, Loss 3.036605]\n",
            "Iter 700. [Val Acc 3%] [Train Acc 33%, Loss 2.564697]\n",
            "Iter 800. [Val Acc 4%] [Train Acc 50%, Loss 1.957843]\n",
            "Iter 900. [Val Acc 4%] [Train Acc 84%, Loss 1.042535]\n",
            "Iter 1000. [Val Acc 4%] [Train Acc 100%, Loss 0.431271]\n",
            "Iter 1100. [Val Acc 4%] [Train Acc 100%, Loss 0.175193]\n",
            "Iter 1200. [Val Acc 4%] [Train Acc 100%, Loss 0.084053]\n",
            "Iter 1300. [Val Acc 4%] [Train Acc 100%, Loss 0.047827]\n",
            "Iter 1400. [Val Acc 4%] [Train Acc 100%, Loss 0.030787]\n",
            "Iter 1500. [Val Acc 4%] [Train Acc 100%, Loss 0.021934]\n",
            "Iter 1600. [Val Acc 4%] [Train Acc 100%, Loss 0.016776]\n",
            "Iter 1700. [Val Acc 4%] [Train Acc 100%, Loss 0.013445]\n",
            "Iter 1800. [Val Acc 4%] [Train Acc 100%, Loss 0.011139]\n",
            "Iter 1900. [Val Acc 4%] [Train Acc 100%, Loss 0.009457]\n",
            "Iter 2000. [Val Acc 4%] [Train Acc 100%, Loss 0.008182]\n"
          ],
          "name": "stdout"
        }
      ]
    },
    {
      "cell_type": "markdown",
      "metadata": {
        "id": "G4PrpAd1Bl84",
        "colab_type": "text"
      },
      "source": [
        "### Part (c) -- 2 pts\n",
        "\n",
        "Train your model from part (a) to obtain a training accuracy of at least 25%."
      ]
    },
    {
      "cell_type": "code",
      "metadata": {
        "id": "FdCeQ1ZBBl89",
        "colab_type": "code",
        "outputId": "636176d4-01b1-4be7-be1e-a5a800cef95a",
        "colab": {
          "base_uri": "https://localhost:8080/",
          "height": 353
        }
      },
      "source": [
        "# Your code goes here\n",
        "run_gradient_descent(numpy_wordemb, learning_rate = 0.3)"
      ],
      "execution_count": 0,
      "outputs": [
        {
          "output_type": "stream",
          "text": [
            "Iter 100. [Val Acc 19%] [Train Acc 20%, Loss 4.184597]\n",
            "Iter 200. [Val Acc 22%] [Train Acc 23%, Loss 3.973731]\n",
            "Iter 300. [Val Acc 24%] [Train Acc 25%, Loss 3.787526]\n",
            "Iter 400. [Val Acc 25%] [Train Acc 25%, Loss 3.499964]\n",
            "Iter 500. [Val Acc 25%] [Train Acc 26%, Loss 3.582619]\n",
            "Iter 600. [Val Acc 26%] [Train Acc 27%, Loss 3.756810]\n",
            "Iter 700. [Val Acc 26%] [Train Acc 27%, Loss 3.576100]\n",
            "Iter 800. [Val Acc 26%] [Train Acc 27%, Loss 3.462031]\n",
            "Iter 900. [Val Acc 27%] [Train Acc 27%, Loss 3.277631]\n",
            "Iter 1000. [Val Acc 27%] [Train Acc 28%, Loss 3.540488]\n",
            "Iter 1100. [Val Acc 27%] [Train Acc 28%, Loss 3.552578]\n",
            "Iter 1200. [Val Acc 28%] [Train Acc 28%, Loss 3.136311]\n",
            "Iter 1300. [Val Acc 28%] [Train Acc 28%, Loss 3.246445]\n",
            "Iter 1400. [Val Acc 28%] [Train Acc 28%, Loss 3.088345]\n",
            "Iter 1500. [Val Acc 28%] [Train Acc 28%, Loss 3.585413]\n",
            "Iter 1600. [Val Acc 28%] [Train Acc 29%, Loss 3.193283]\n",
            "Iter 1700. [Val Acc 28%] [Train Acc 29%, Loss 3.166561]\n",
            "Iter 1800. [Val Acc 29%] [Train Acc 29%, Loss 3.316647]\n",
            "Iter 1900. [Val Acc 29%] [Train Acc 29%, Loss 2.651000]\n",
            "Iter 2000. [Val Acc 28%] [Train Acc 28%, Loss 2.674234]\n"
          ],
          "name": "stdout"
        }
      ]
    },
    {
      "cell_type": "markdown",
      "metadata": {
        "id": "eUQaaTrTBl9L",
        "colab_type": "text"
      },
      "source": [
        "### Part (d) -- 2 pts\n",
        "\n",
        "The PyTorch version of the model is implemented for you. Use \n",
        "`run_pytorch_gradient_descent` to train\n",
        "your PyTorch MLP model to obtain a training accuracy of at least 38%.\n",
        "Plot the learning curve using the `plot_learning_curve` function provided\n",
        "to you, and include your plot in your PDF submission.\n",
        "\n",
        "Make sure that you checkpoint frequently. We will be using ..."
      ]
    },
    {
      "cell_type": "code",
      "metadata": {
        "id": "c2e9eP7VBl9R",
        "colab_type": "code",
        "outputId": "05b50d64-690d-4f78-b683-5bdfebb5b058",
        "colab": {
          "base_uri": "https://localhost:8080/",
          "height": 1000
        }
      },
      "source": [
        "class PyTorchWordEmb(nn.Module):\n",
        "    def __init__(self, emb_size=100, num_hidden=300, vocab_size=250):\n",
        "        super(PyTorchWordEmb, self).__init__()\n",
        "        self.word_emb_layer = nn.Linear(vocab_size, emb_size, bias=False)\n",
        "        self.fc_layer1 = nn.Linear(emb_size * 3, num_hidden)\n",
        "        self.fc_layer2 = nn.Linear(num_hidden, 250)\n",
        "        self.num_hidden = num_hidden\n",
        "        self.emb_size = emb_size\n",
        "    def forward(self, inp):\n",
        "        embeddings = torch.relu(self.word_emb_layer(inp))\n",
        "        embeddings = embeddings.reshape([-1, self.emb_size * 3])\n",
        "        hidden = torch.relu(self.fc_layer1(embeddings))\n",
        "        return self.fc_layer2(hidden)\n",
        "\n",
        "pytorch_wordemb= PyTorchWordEmb()\n",
        "\n",
        "result = run_pytorch_gradient_descent(pytorch_wordemb,\n",
        "                                       max_iters=20000)\n",
        "\n",
        "plot_learning_curve(*result)"
      ],
      "execution_count": 0,
      "outputs": [
        {
          "output_type": "stream",
          "text": [
            "Iter 0. [Val Acc 17%] [Train Acc 17%, Loss 5.510087]\n",
            "Iter 500. [Val Acc 27%] [Train Acc 27%, Loss 3.397268]\n",
            "Iter 1000. [Val Acc 29%] [Train Acc 30%, Loss 2.814312]\n",
            "Iter 1500. [Val Acc 30%] [Train Acc 31%, Loss 3.025668]\n",
            "Iter 2000. [Val Acc 31%] [Train Acc 31%, Loss 2.624730]\n",
            "Iter 2500. [Val Acc 32%] [Train Acc 33%, Loss 2.737919]\n",
            "Iter 3000. [Val Acc 33%] [Train Acc 33%, Loss 3.020097]\n",
            "Iter 3500. [Val Acc 33%] [Train Acc 34%, Loss 2.945531]\n",
            "Iter 4000. [Val Acc 34%] [Train Acc 34%, Loss 2.654337]\n",
            "Iter 4500. [Val Acc 34%] [Train Acc 35%, Loss 2.999660]\n",
            "Iter 5000. [Val Acc 35%] [Train Acc 36%, Loss 3.006204]\n",
            "Iter 5500. [Val Acc 34%] [Train Acc 35%, Loss 3.111285]\n",
            "Iter 6000. [Val Acc 35%] [Train Acc 36%, Loss 2.574912]\n",
            "Iter 6500. [Val Acc 35%] [Train Acc 36%, Loss 2.937150]\n",
            "Iter 7000. [Val Acc 35%] [Train Acc 35%, Loss 2.622247]\n",
            "Iter 7500. [Val Acc 35%] [Train Acc 36%, Loss 2.759908]\n",
            "Iter 8000. [Val Acc 36%] [Train Acc 37%, Loss 2.651202]\n",
            "Iter 8500. [Val Acc 36%] [Train Acc 37%, Loss 2.848427]\n",
            "Iter 9000. [Val Acc 35%] [Train Acc 37%, Loss 2.494622]\n",
            "Iter 9500. [Val Acc 36%] [Train Acc 37%, Loss 2.601757]\n",
            "Iter 10000. [Val Acc 36%] [Train Acc 37%, Loss 2.892263]\n",
            "Iter 10500. [Val Acc 36%] [Train Acc 37%, Loss 2.724291]\n",
            "Iter 11000. [Val Acc 36%] [Train Acc 37%, Loss 2.514932]\n",
            "Iter 11500. [Val Acc 36%] [Train Acc 38%, Loss 2.434756]\n",
            "Iter 12000. [Val Acc 37%] [Train Acc 39%, Loss 2.700422]\n",
            "Iter 12500. [Val Acc 37%] [Train Acc 38%, Loss 2.695440]\n",
            "Iter 13000. [Val Acc 36%] [Train Acc 38%, Loss 2.516594]\n",
            "Iter 13500. [Val Acc 37%] [Train Acc 38%, Loss 2.517031]\n",
            "Iter 14000. [Val Acc 37%] [Train Acc 38%, Loss 2.555484]\n",
            "Iter 14500. [Val Acc 37%] [Train Acc 38%, Loss 2.447453]\n",
            "Iter 15000. [Val Acc 37%] [Train Acc 38%, Loss 2.458925]\n",
            "Iter 15500. [Val Acc 37%] [Train Acc 39%, Loss 2.772281]\n",
            "Iter 16000. [Val Acc 37%] [Train Acc 39%, Loss 2.282574]\n",
            "Iter 16500. [Val Acc 37%] [Train Acc 39%, Loss 2.743903]\n",
            "Iter 17000. [Val Acc 37%] [Train Acc 39%, Loss 2.454411]\n",
            "Iter 17500. [Val Acc 37%] [Train Acc 39%, Loss 2.594688]\n",
            "Iter 18000. [Val Acc 37%] [Train Acc 38%, Loss 2.336728]\n",
            "Iter 18500. [Val Acc 37%] [Train Acc 38%, Loss 2.353455]\n",
            "Iter 19000. [Val Acc 37%] [Train Acc 39%, Loss 2.460212]\n",
            "Iter 19500. [Val Acc 37%] [Train Acc 40%, Loss 2.497413]\n",
            "Iter 20000. [Val Acc 37%] [Train Acc 39%, Loss 2.291473]\n"
          ],
          "name": "stdout"
        },
        {
          "output_type": "display_data",
          "data": {
            "image/png": "[encoded data removed]",
            "text/plain": [
              "<Figure size 432x288 with 1 Axes>"
            ]
          },
          "metadata": {
            "tags": []
          }
        },
        {
          "output_type": "display_data",
          "data": {
            "image/png": "[encoded data removed]",
            "text/plain": [
              "<Figure size 432x288 with 1 Axes>"
            ]
          },
          "metadata": {
            "tags": []
          }
        }
      ]
    },
    {
      "cell_type": "markdown",
      "metadata": {
        "id": "ACqMW_njBl9d",
        "colab_type": "text"
      },
      "source": [
        "### Part (e) -- 2 pts\n",
        "\n",
        "Use the function `make_prediction` that you wrote earlier to  \n",
        "predict what the next word should be in each of the following sentences:\n",
        "\n",
        "- \"You are a\"\n",
        "- \"few companies show\"\n",
        "- \"There are no\"\n",
        "- \"yesterday i was\"\n",
        "- \"the game had\"\n",
        "- \"yesterday the federal\"\n",
        "\n",
        "How do these predictions compared to the previous model?\n",
        "\n",
        "Just like before, if all of your predictions are the same,\n",
        "train your model for more iterations, or change the hyperparameters in your\n",
        "model. You may need to do this even if your training accuracy is >=38%."
      ]
    },
    {
      "cell_type": "code",
      "metadata": {
        "id": "ia3Oia2rBl9i",
        "colab_type": "code",
        "outputId": "7afe490f-ac7d-4bc1-b722-1931b4a35da8",
        "colab": {
          "base_uri": "https://localhost:8080/",
          "height": 272
        }
      },
      "source": [
        "print(make_prediction_torch(pytorch_wordemb, [\"you\", \"are\", \"a\"]))\n",
        "print(make_prediction_torch(pytorch_wordemb, [\"few\", \"companies\", \"show\"]))\n",
        "print(make_prediction_torch(pytorch_wordemb, [\"there\", \"are\", \"no\"]))\n",
        "print(make_prediction_torch(pytorch_wordemb, [\"yesterday\", \"i\", \"was\"]))\n",
        "print(make_prediction_torch(pytorch_wordemb, [\"the\", \"game\", \"had\"]))\n",
        "print(make_prediction_torch(pytorch_wordemb, [\"yesterday\", \"the\", \"federal\"]))\n",
        "\n",
        "def find_in_train(sent):\n",
        "  preds = []\n",
        "  for sents in train:\n",
        "    for j in range(len(sents)):\n",
        "      if j+3 <len(sents):\n",
        "        if sents[j:j+3] == sent:\n",
        "          preds.append(sents[j+3])\n",
        "  return preds\n",
        "\n",
        "print(find_in_train([\"you\", \"are\", \"a\"]))\n",
        "print(find_in_train([\"few\", \"companies\", \"show\"]))\n",
        "print(find_in_train([\"there\", \"are\", \"no\"]))\n",
        "print(find_in_train([\"yesterday\", \"i\", \"was\"]))\n",
        "print(find_in_train([\"the\", \"game\", \"had\"]))\n",
        "print(find_in_train([\"yesterday\", \"the\", \"federal\"]))\n",
        "\n",
        "\n",
        "#the predictions of this model seem to be more meaningful.\n",
        "#and this time around our model picks words that are more often \n",
        "#repeated for the examples existing in our training set.\n",
        "#but it stills generalizes good for the combination of words it never seen before"
      ],
      "execution_count": 0,
      "outputs": [
        {
          "output_type": "stream",
          "text": [
            "/usr/local/lib/python3.6/dist-packages/ipykernel_launcher.py:8: FutureWarning: Using a non-tuple sequence for multidimensional indexing is deprecated; use `arr[tuple(seq)]` instead of `arr[seq]`. In the future this will be interpreted as an array index, `arr[np.array(seq)]`, which will result either in an error or a different result.\n",
            "  \n"
          ],
          "name": "stderr"
        },
        {
          "output_type": "stream",
          "text": [
            "man\n",
            "up\n",
            "other\n",
            "nt\n",
            "to\n",
            "government\n",
            "['company', 'family', 'president', 'man', 'man', 'big', 'good', 'man', 'man', 'good', 'what']\n",
            "[]\n",
            "['children', 'women', 'children', 'people', 'people']\n",
            "[]\n",
            "[]\n",
            "[]\n"
          ],
          "name": "stdout"
        }
      ]
    },
    {
      "cell_type": "markdown",
      "metadata": {
        "id": "x6K0xpCsBl9w",
        "colab_type": "text"
      },
      "source": [
        "### Part (f) -- 1 pts\n",
        "\n",
        "Report the test accuracy of your model"
      ]
    },
    {
      "cell_type": "code",
      "metadata": {
        "id": "3IDbnisEBl94",
        "colab_type": "code",
        "outputId": "5749d733-8ce2-4436-d126-74aed5daa11d",
        "colab": {
          "base_uri": "https://localhost:8080/",
          "height": 34
        }
      },
      "source": [
        "# Write your code here\n",
        "accuracy = str(int(estimate_accuracy_torch(pytorch_wordemb, test4grams) * 100))\n",
        "\n",
        "print(\"the acuracy for the model on test is: \"+ accuracy +\"%\")"
      ],
      "execution_count": 0,
      "outputs": [
        {
          "output_type": "stream",
          "text": [
            "the acuracy for the model on test is: 37%\n"
          ],
          "name": "stdout"
        }
      ]
    },
    {
      "cell_type": "markdown",
      "metadata": {
        "id": "gDPNuOXTBl-H",
        "colab_type": "text"
      },
      "source": [
        "## Question 4. Visualizing Word Embeddings\n",
        "\n",
        "While training the `PyTorchMLP`, we trained the `word_emb_layer`, which takes a one-hot\n",
        "representation of a word in our vocabulary, and returns a low-dimensional vector\n",
        "representation of that word. In this question, we will explore these word embeddings.\n",
        "\n",
        "### Part (a) -- 2 pts\n",
        "\n",
        "The code below extracts the **weights** of the word embedding layer,\n",
        "and converts the PyTorch tensor into an numpy array.\n",
        "Explain why each *row* of `word_emb` contains the vector representing\n",
        "of a word. For example `word_emb[vocab_stoi[\"any\"],:]` contains the\n",
        "vector representation of the word \"any\"."
      ]
    },
    {
      "cell_type": "code",
      "metadata": {
        "id": "yMHZ4zqLBl-K",
        "colab_type": "code",
        "colab": {}
      },
      "source": [
        "word_emb_weights = list(pytorch_wordemb.word_emb_layer.parameters())[0]\n",
        "word_emb = word_emb_weights.detach().numpy().T\n",
        "# Write your explanation here\n",
        "\n",
        "#that is because of the fact that the word_emb contains word representaion\n",
        "#of every word in our vocab, so when given an index of an word to the word_emb\n",
        "#we expect a vector which represents this word in our vocab. "
      ],
      "execution_count": 0,
      "outputs": []
    },
    {
      "cell_type": "markdown",
      "metadata": {
        "id": "rZyhEKAJBl-V",
        "colab_type": "text"
      },
      "source": [
        "### Part (b) -- 2 pts\n",
        "\n",
        "Once interesting thing about these word embeddings is that distances\n",
        "in these vector representations of words make some sense! To show this,\n",
        "we have provided code below that computes the cosine similarity of\n",
        "every pair of words in our vocabulary. This code should look familiar,\n",
        "since we have seen it in project 1."
      ]
    },
    {
      "cell_type": "code",
      "metadata": {
        "id": "5hr1x2xLBl-X",
        "colab_type": "code",
        "outputId": "8b6779b6-21b9-43b6-cfea-2961afae10c2",
        "colab": {
          "base_uri": "https://localhost:8080/",
          "height": 50
        }
      },
      "source": [
        "norms = np.linalg.norm(word_emb, axis=1)\n",
        "word_emb_norm = (word_emb.T / norms).T\n",
        "similarities = np.matmul(word_emb_norm, word_emb_norm.T)\n",
        "\n",
        "# Some example distances. The first one should be larger than the second\n",
        "print(similarities[vocab_stoi['any'], vocab_stoi['many']])\n",
        "print(similarities[vocab_stoi['any'], vocab_stoi['government']])"
      ],
      "execution_count": 0,
      "outputs": [
        {
          "output_type": "stream",
          "text": [
            "0.40344852\n",
            "-0.053034283\n"
          ],
          "name": "stdout"
        }
      ]
    },
    {
      "cell_type": "markdown",
      "metadata": {
        "id": "4bNA-hD2Bl-r",
        "colab_type": "text"
      },
      "source": [
        "Compute the 5 closest words to the following words:\n",
        "\n",
        "- \"four\"\n",
        "- \"go\"\n",
        "- \"what\"\n",
        "- \"should\"\n",
        "- \"school\"\n",
        "- \"your\"\n",
        "- \"yesterday\"\n",
        "- \"not\""
      ]
    },
    {
      "cell_type": "code",
      "metadata": {
        "id": "hg0IpMT2Bl-w",
        "colab_type": "code",
        "outputId": "f5234339-e5ae-4b1a-cca7-179a325cf0ee",
        "colab": {
          "base_uri": "https://localhost:8080/",
          "height": 151
        }
      },
      "source": [
        "#TODO\n",
        "words = ['four', 'go', 'what', 'should', 'school', 'your', 'yesterday', 'not']\n",
        "def compute_k_closest(i, k):\n",
        "   closests = sorted(enumerate(similarities[:, i]),\n",
        "                      key=lambda r: r[1],\n",
        "                      reverse=True)\n",
        "   closest_indices = [index for (index, dist) in closests[:k]]\n",
        "   words = []\n",
        "   for i in closest_indices:\n",
        "     words.append(vocab_itos[i])\n",
        "   return words\n",
        "\n",
        "k_closests = []\n",
        "k = 6\n",
        "for word in words:\n",
        "  index = vocab_stoi[word]\n",
        "  k_closests = compute_k_closest(index, k)\n",
        "  print(\"closest words to '\"+word+\"' : \"+' '.join(k_closests))"
      ],
      "execution_count": 0,
      "outputs": [
        {
          "output_type": "stream",
          "text": [
            "closest words to 'four' : four three two five years more\n",
            "closest words to 'go' : go going come back up percent\n",
            "closest words to 'what' : what where when who how which\n",
            "closest words to 'should' : should could would can big will\n",
            "closest words to 'school' : school ) another center york before\n",
            "closest words to 'your' : your my their its our of\n",
            "closest words to 'yesterday' : yesterday john today house money year\n",
            "closest words to 'not' : not nt states might still used\n"
          ],
          "name": "stdout"
        }
      ]
    },
    {
      "cell_type": "markdown",
      "metadata": {
        "id": "QkF48zKuBl_A",
        "colab_type": "text"
      },
      "source": [
        "### Part (c) -- 2 pts\n",
        "\n",
        "We can visualize the word embeddings by reducing the dimensionality of\n",
        "the word vectors to 2D. There are many dimensionality reduction techniques\n",
        "that we could use, and we will use an algorithm called t-SNE.\n",
        "(You don’t need to know what this is for the assignment,\n",
        "but we may cover it later in the course.)\n",
        "Nearby points in this 2-D space are meant to correspond to nearby points\n",
        "in the original, high-dimensional space.\n",
        "\n",
        "The following code runs the t-SNE algorithm and plots the result.\n",
        "Look at the plot and find two clusters of related words.\n",
        "What do the words in each cluster have in common?\n",
        "\n",
        "Note that there is randomness in the initialization of the t-SNE \n",
        "algorithm. If you re-run this code, you may get a different image.\n",
        "Please make sure to submit your image in the PDF file for your TA to see."
      ]
    },
    {
      "cell_type": "code",
      "metadata": {
        "id": "r-DR7qaZBl_D",
        "colab_type": "code",
        "outputId": "6e6e50b0-d482-473b-96f9-d94aeadc71bd",
        "colab": {
          "base_uri": "https://localhost:8080/",
          "height": 600
        }
      },
      "source": [
        "import sklearn.manifold\n",
        "tsne = sklearn.manifold.TSNE()\n",
        "Y = tsne.fit_transform(word_emb)\n",
        "\n",
        "plt.figure(figsize=(10, 10))\n",
        "plt.xlim(Y[:,0].min(), Y[:, 0].max())\n",
        "plt.ylim(Y[:,1].min(), Y[:, 1].max())\n",
        "for i, w in enumerate(vocab):\n",
        "    plt.text(Y[i, 0], Y[i, 1], w)\n",
        "plt.show()\n",
        "\n",
        "#the words in each cluster are related to each other and they mostly\n",
        "#either have similar characters or they are close in the meaning to each other.\n",
        "#for example numbers have their own cluster because of their meaning relation."
      ],
      "execution_count": 0,
      "outputs": [
        {
          "output_type": "display_data",
          "data": {
            "image/png": "[encoded data removed]",
            "text/plain": [
              "<Figure size 720x720 with 1 Axes>"
            ]
          },
          "metadata": {
            "tags": []
          }
        }
      ]
    }
  ]
}